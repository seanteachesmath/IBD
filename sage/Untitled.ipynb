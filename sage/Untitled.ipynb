{
 "cells": [
  {
   "cell_type": "code",
   "execution_count": 5,
   "id": "03cbc034",
   "metadata": {},
   "outputs": [
    {
     "data": {
      "text/plain": [
       "t"
      ]
     },
     "execution_count": 5,
     "metadata": {},
     "output_type": "execute_result"
    }
   ],
   "source": [
    "var('t')"
   ]
  },
  {
   "cell_type": "code",
   "execution_count": 31,
   "id": "eebe955a",
   "metadata": {},
   "outputs": [],
   "source": [
    "p = parametric_plot([29/5*exp(8*t) + (-9/5)*exp(3*t), 29/5*exp(8*t) + (-9/5)*(-2/3)*exp(3*t)], (t, 0, 0.1), aspect_ratio=1, axes_labels=[\"$x$\", \"$y$\"])\n",
    "p = p+points((4,7), xmin = 0, xmax = 10, ymin = 0, ymax = 10)\n",
    "save(p, \"linear_sys.png\")"
   ]
  },
  {
   "cell_type": "code",
   "execution_count": 17,
   "id": "07a416d4",
   "metadata": {},
   "outputs": [
    {
     "data": {
      "text/plain": [
       "4"
      ]
     },
     "execution_count": 17,
     "metadata": {},
     "output_type": "execute_result"
    }
   ],
   "source": [
    "(29/5*exp(8*t) + (-9/5)*exp(3*t)).substitute(t=0)"
   ]
  },
  {
   "cell_type": "code",
   "execution_count": 19,
   "id": "134a2d02",
   "metadata": {},
   "outputs": [
    {
     "data": {
      "text/plain": [
       "7"
      ]
     },
     "execution_count": 19,
     "metadata": {},
     "output_type": "execute_result"
    }
   ],
   "source": [
    "(29/5*exp(8*t) + (-9/5)*(-2/3)*exp(3*t)).substitute(t=0)"
   ]
  },
  {
   "cell_type": "code",
   "execution_count": null,
   "id": "3de29188",
   "metadata": {},
   "outputs": [],
   "source": []
  }
 ],
 "metadata": {
  "kernelspec": {
   "display_name": "SageMath 9.7",
   "language": "sage",
   "name": "sagemath-9.7"
  },
  "language_info": {
   "codemirror_mode": {
    "name": "ipython",
    "version": 3
   },
   "file_extension": ".py",
   "mimetype": "text/x-python",
   "name": "python",
   "nbconvert_exporter": "python",
   "pygments_lexer": "ipython3",
   "version": "3.10.5"
  }
 },
 "nbformat": 4,
 "nbformat_minor": 5
}
